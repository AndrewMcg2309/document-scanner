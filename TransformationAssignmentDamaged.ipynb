{
 "cells": [
  {
   "cell_type": "code",
   "execution_count": 1,
   "metadata": {},
   "outputs": [],
   "source": [
    "# Transformation Assignment Damaged"
   ]
  },
  {
   "cell_type": "code",
   "execution_count": 2,
   "metadata": {},
   "outputs": [],
   "source": [
    "import cv2\n",
    "import numpy as np\n",
    "from matplotlib import pyplot as plt \n",
    "from matplotlib import image as image\n",
    "import easygui\n",
    "from PIL import Image\n",
    "\n",
    "# Load Image to be fixed\n",
    "try:\n",
    "    image = cv2.imread(\"Damaged.jpg\")\n",
    "    cv2.imwrite('Damaged.jpg', image)\n",
    "except:\n",
    "    print(\"Image load failed\")\n",
    "    \n",
    "\n",
    "# Function to fix Image\n",
    "def ImageFix(image):\n",
    "    try:\n",
    "        # Convert image to HSV from BGR\n",
    "        # Extract values of hue, saturation and value from HSV\n",
    "        hsv = cv2.cvtColor(image, cv2.COLOR_BGR2HSV)\n",
    "        h, s, v = cv2.split(hsv)\n",
    "\n",
    "        # Assign saturation with a very low number for yellow sun damage\n",
    "        # Use \"uint8\" for values 0-255\n",
    "        s = s * 0.01\n",
    "        s = s.astype('uint8')\n",
    "\n",
    "        # Assign HSV values back to image using merge\n",
    "        hsv = cv2.merge((h,s,v))\n",
    "\n",
    "        # Convert image to greyscale\n",
    "        image = cv2.cvtColor(hsv, cv2.COLOR_HSV2BGR)                 \n",
    "        gray = cv2.cvtColor(image, cv2.COLOR_BGR2GRAY)\n",
    "\n",
    "        # Color in range of 0-255 in grayscale image\n",
    "        # Greyscale range is binary so it only has one value per pixel\n",
    "        rangeG = cv2.inRange(gray, 200, 255)\n",
    "\n",
    "        # Using \"INPAINT_TELEA\" for joining lines with same intensity\n",
    "        # rangeG from our grayscale color range\n",
    "        image = cv2.inpaint(image, rangeG, 5, cv2.INPAINT_TELEA)\n",
    "\n",
    "        # Load origional image to compare with new image\n",
    "        original = cv2.imread(\"Damaged.jpg\")  \n",
    "        \n",
    "        # Display images side by side with original\n",
    "        imageLayout = np.hstack((original, image))\n",
    "        cv2.imshow('Sun Damaged', imageLayout)\n",
    "        cv2.waitKey(0)\n",
    "\n",
    "    except:\n",
    "        print(\"Error during process\")\n",
    "\n",
    "# Call function to fix image\n",
    "ImageFix(image)"
   ]
  }
 ],
 "metadata": {
  "kernelspec": {
   "display_name": "Python 3",
   "language": "python",
   "name": "python3"
  },
  "language_info": {
   "codemirror_mode": {
    "name": "ipython",
    "version": 3
   },
   "file_extension": ".py",
   "mimetype": "text/x-python",
   "name": "python",
   "nbconvert_exporter": "python",
   "pygments_lexer": "ipython3",
   "version": "3.7.9"
  }
 },
 "nbformat": 4,
 "nbformat_minor": 4
}
